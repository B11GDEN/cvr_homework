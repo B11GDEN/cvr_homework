{
  "nbformat": 4,
  "nbformat_minor": 0,
  "metadata": {
    "colab": {
      "name": "localization_hw8.ipynb",
      "provenance": [],
      "collapsed_sections": [],
      "authorship_tag": "ABX9TyPaYsfs/tIUQhvmpV9IpnVm",
      "include_colab_link": true
    },
    "kernelspec": {
      "name": "python3",
      "display_name": "Python 3"
    },
    "language_info": {
      "name": "python"
    }
  },
  "cells": [
    {
      "cell_type": "markdown",
      "metadata": {
        "id": "view-in-github",
        "colab_type": "text"
      },
      "source": [
        "<a href=\"https://colab.research.google.com/github/B11GDEN/cvr_homework/blob/main/localization_hw8.ipynb\" target=\"_parent\"><img src=\"https://colab.research.google.com/assets/colab-badge.svg\" alt=\"Open In Colab\"/></a>"
      ]
    },
    {
      "cell_type": "markdown",
      "metadata": {
        "id": "i77daNF56EJB"
      },
      "source": [
        "# Локализация. Упражнения\n",
        "В этих упражнениях вам предлагается реализовать простые алгоритмы локализации роботов. На лекции, помимо фильтра частиц, были упомянуты методы триангуляции и альфа-бета фильтр. Давайте их реализуем: обе реализации должны быть сделаны в виде класса, у которого должен быть метод update. Метод update принимает на вход измеренения с камеры о положении ориентиров в сосбтвенной системе координат робота.\n",
        "\n",
        "В качестве ориентиров будем использовать координаты стоек ворот. Для удобства будем пользоваться упрощенным вариантом, при котором ворота разных цветов. В словаре храняться положения стоек в глобальной системе координат (точка (0, 0) нахождится в центре поля)"
      ]
    },
    {
      "cell_type": "code",
      "metadata": {
        "id": "H2Vsb8vS5_Af"
      },
      "source": [
        "landmarks = {\n",
        "    \"blue_posts\": [\n",
        "        [ -4.5, -1.0], [ -4.5, 1.0]\n",
        "    ],\n",
        "    \"yellow_posts\":[\n",
        "        [ 4.5, -1.0], [ 4.5, 1.0]\n",
        "    ]\n",
        "}"
      ],
      "execution_count": 1,
      "outputs": []
    },
    {
      "cell_type": "markdown",
      "metadata": {
        "id": "elft0TfH6uls"
      },
      "source": [
        "Пример данных, которые могут поступать в модуль на одном шаге всей системы. Данные во втором словаре – это данные одометрии с собвственной информацией робота о перемещении за один шаг системы. Для проверки работы придумайте и запишите набор данных с такой же структурой."
      ]
    },
    {
      "cell_type": "code",
      "metadata": {
        "id": "uqSKi_6e7A_6"
      },
      "source": [
        "observations = {\"yellow_posts\":[[4.45, -0.99],[4.49, 1.09]], \"blue_posts\":[]}\n",
        "shift = {'shift_x':0.0, 'shift_y':0.01, 'shift_angle':-0.4}"
      ],
      "execution_count": 2,
      "outputs": []
    },
    {
      "cell_type": "markdown",
      "metadata": {
        "id": "4Z-Uj1Au6yH-"
      },
      "source": [
        "## 1) Реализовать локализацию триангуляцией (3 балл)"
      ]
    },
    {
      "cell_type": "code",
      "metadata": {
        "id": "bUcF1s8Q6vPD"
      },
      "source": [
        "class localization_triangulation:\n",
        "    \n",
        "    def __init__(self, x_start, y_start):\n",
        "        '''\n",
        "        Инициализируем начальное положение\n",
        "        '''\n",
        "        self.x = x_start\n",
        "        self.y = y_start\n",
        "    \n",
        "    def update(self, distances):\n",
        "        '''\n",
        "        distances - словарь с расстояниями до стоек ворот\n",
        "        Пример, distances = {\"yellow_posts\":[1.1, 0.9], \"blue_posts\":[]}\n",
        "        '''\n",
        "\n",
        "        #видны желтые стойки ворот\n",
        "        if distances[\"blue_posts\"] == []:\n",
        "            r1 = distances[\"yellow_posts\"][0]\n",
        "            r2 = distances[\"yellow_posts\"][1]\n",
        "            l = landmarks[\"yellow_posts\"][1][1] - landmarks[\"yellow_posts\"][0][1]\n",
        "            p = (r1 + r2 + l) / 2\n",
        "            s = (p*(p-r1)*(p-r2)*(p-l))**(1/2)\n",
        "            h = 2*s/l\n",
        "            self.y = landmarks[\"yellow_posts\"][0][0] - h\n",
        "            if r2**2 > l**2 + r1**2:\n",
        "                l1 = (r1**2 - h**2)**(1/2)\n",
        "                self.x = landmarks[\"yellow_posts\"][0][1] - l1\n",
        "            if r1**2 > l**2 + r2**2:\n",
        "                l2 = (r2**2 - h**2)**(1/2)\n",
        "                self.x = landmarks[\"yellow_posts\"][1][1] + l2\n",
        "            else:\n",
        "                l1 = (r1**2 - h**2)**(1/2)\n",
        "                self.x = landmarks[\"yellow_posts\"][0][1] + l1\n",
        "        #видны синие стойки ворот\n",
        "        else:\n",
        "            r1 = distances[\"blue_posts\"][0]\n",
        "            r2 = distances[\"blue_posts\"][1]\n",
        "            l = landmarks[\"blue_posts\"][1][1] - landmarks[\"blue_posts\"][0][1]\n",
        "            p = (r1 + r2 + l) / 2\n",
        "            s = (p*(p-r1)*(p-r2)*(p-l))**(1/2)\n",
        "            h = 2*s/l\n",
        "            self.y = landmarks[\"blue_posts\"][0][0] + h\n",
        "            if r2**2 > l**2 + r1**2:\n",
        "                l1 = (r1**2 - h**2)**(1/2)\n",
        "                self.x = landmarks[\"blue_posts\"][0][1] - l1\n",
        "            if r1**2 > l**2 + r2**2:\n",
        "                l2 = (r2**2 - h**2)**(1/2)\n",
        "                self.x = landmarks[\"blue_posts\"][1][1] + l2\n",
        "            else:\n",
        "                l1 = (r1**2 - h**2)**(1/2)\n",
        "                self.x = landmarks[\"blue_posts\"][0][1] + l1"
      ],
      "execution_count": 3,
      "outputs": []
    },
    {
      "cell_type": "markdown",
      "metadata": {
        "id": "xTW4CMwJ-WYs"
      },
      "source": [
        "### Проверка"
      ]
    },
    {
      "cell_type": "code",
      "metadata": {
        "id": "dyJ6Wgdu-hCG"
      },
      "source": [
        "# Преобразует позицию робота в расстояния до ворот\n",
        "def positions2distances(positions):\n",
        "    dst_y1 = ((positions[\"y\"] - landmarks[\"yellow_posts\"][0][0])**2 + (positions[\"x\"] - landmarks[\"yellow_posts\"][0][1])**2)**(1/2)\n",
        "    dst_y2 = ((positions[\"y\"] - landmarks[\"yellow_posts\"][1][0])**2 + (positions[\"x\"] - landmarks[\"yellow_posts\"][1][1])**2)**(1/2)\n",
        "\n",
        "    dst_b1 = ((positions[\"y\"] - landmarks[\"blue_posts\"][0][0])**2 + (positions[\"x\"] - landmarks[\"blue_posts\"][0][1])**2)**(1/2)\n",
        "    dst_b2 = ((positions[\"y\"] - landmarks[\"blue_posts\"][1][0])**2 + (positions[\"x\"] - landmarks[\"blue_posts\"][1][1])**2)**(1/2)\n",
        "    \n",
        "    return {\"yellow_posts\": [dst_y1, dst_y2], \"blue_posts\": [dst_b1, dst_b2]}"
      ],
      "execution_count": 8,
      "outputs": []
    },
    {
      "cell_type": "code",
      "metadata": {
        "colab": {
          "base_uri": "https://localhost:8080/"
        },
        "id": "cdOo64tEDFAS",
        "outputId": "89ef4d68-a51c-4025-f07e-6a49d4ce0e4e"
      },
      "source": [
        "Robot = localization_triangulation(0, 0)\n",
        "\n",
        "positions1 = {\"x\": 1, \"y\": 1}\n",
        "distances1 = positions2distances(positions1)\n",
        "distances1[\"yellow_posts\"] = []\n",
        "Robot.update(distances1)\n",
        "print(Robot.x, Robot.y)\n",
        "\n",
        "positions2 = {\"x\": 2, \"y\": 2}\n",
        "distances2 = positions2distances(positions2)\n",
        "distances2[\"blue_posts\"] = []\n",
        "Robot.update(distances2)\n",
        "print(Robot.x, Robot.y)\n",
        "\n",
        "positions3 = {\"x\": 1, \"y\": 5}\n",
        "distances3 = positions2distances(positions3)\n",
        "distances3[\"yellow_posts\"] = []\n",
        "Robot.update(distances3)\n",
        "print(Robot.x, Robot.y)"
      ],
      "execution_count": 7,
      "outputs": [
        {
          "output_type": "stream",
          "text": [
            "1.0 1.0\n",
            "1.9999999999999973 1.9999999999999991\n",
            "0.9999999999999574 5.000000000000009\n"
          ],
          "name": "stdout"
        }
      ]
    },
    {
      "cell_type": "markdown",
      "metadata": {
        "id": "NYIt7fbWJJKr"
      },
      "source": [
        "## 2) Дополнить предыдущий пункт до альфа-бета фильтра (5 балла)"
      ]
    },
    {
      "cell_type": "code",
      "metadata": {
        "id": "KIZcJWREJP7_"
      },
      "source": [
        "class localization_alphabeta:\n",
        "    \n",
        "    def __init__(self, x_start, y_start, alpha, beta):\n",
        "        '''\n",
        "        Инициализируем начальное положение\n",
        "        '''\n",
        "        self.x = x_start\n",
        "        self.y = y_start\n",
        "\n",
        "        self.local_tri =  localization_triangulation(x_start, y_start)\n",
        "\n",
        "        self.alpha = alpha\n",
        "        self.beta = beta\n",
        "    \n",
        "    def update(self, distances, shift):\n",
        "        \n",
        "        self.local_tri.update(distances)\n",
        "        x_tri = self.local_tri.x\n",
        "        y_tri = self.local_tri.y\n",
        "\n",
        "        x_odo = self.x + shift[\"x\"]\n",
        "        y_odo = self.y + shift[\"y\"]\n",
        "\n",
        "        self.x = x_tri*self.alpha + x_odo*self.beta\n",
        "        self.y = y_tri*self.alpha + y_odo*self.beta"
      ],
      "execution_count": 10,
      "outputs": []
    }
  ]
}